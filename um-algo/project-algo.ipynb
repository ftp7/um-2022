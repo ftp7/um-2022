{
 "cells": [
  {
   "cell_type": "markdown",
   "source": [
    "<img width=\"100%\" align=\"center\" src=\"https://www.kindpng.com/picc/m/709-7094657_thumb-image-universiti-malaya-logo-png-transparent-png.png\">\n",
    "<h1 align=\"center\">WIA2005 ALGORITHM DESIGN AND ANALYSIS</h1>\n",
    "<h1 align=\"center\">Group Project </h1>\n",
    "<h3 align=\"center\" border=\"3px\">Team 1, Occ 4</h3>\n",
    "<table align=\"center\">\n",
    "  <tr>\n",
    "    <th>Name</th>\n",
    "    <th>Matric</th>\n",
    "  </tr>\n",
    "  <tr>\n",
    "    <td>Fadjar Soengkono</td>\n",
    "    <td>S2000808</td>\n",
    "  </tr>\n",
    "  <tr>\n",
    "    <td>Zahid Fajri Ramadhan </td>\n",
    "    <td>17216872</td>\n",
    "  </tr>\n",
    "  <tr>\n",
    "    <td>Muhammad Rafi Azhar Salman</td>\n",
    "    <td>S2003599</td>\n",
    "  </tr>\n",
    "  <tr>\n",
    "    <td>Huang Ruixin</td>\n",
    "    <td>S2011472</td>\n",
    "  </tr>\n",
    "  <tr>\n",
    "    <td>Samiul Hoque Sami</td>\n",
    "    <td>S2014442</td>\n",
    "  </tr>\n",
    "  <tr>\n",
    "    <td>Leiheng Qin</td>\n",
    "    <td>S2005744</td>\n",
    "  </tr>\n",
    "</table>"
   ],
   "metadata": {
    "collapsed": false,
    "pycharm": {
     "name": "#%% md\n"
    }
   }
  }
 ],
 "metadata": {
  "kernelspec": {
   "display_name": "Python 3",
   "language": "python",
   "name": "python3"
  },
  "language_info": {
   "codemirror_mode": {
    "name": "ipython",
    "version": 2
   },
   "file_extension": ".py",
   "mimetype": "text/x-python",
   "name": "python",
   "nbconvert_exporter": "python",
   "pygments_lexer": "ipython2",
   "version": "2.7.6"
  }
 },
 "nbformat": 4,
 "nbformat_minor": 0
}